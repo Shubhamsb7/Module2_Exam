{
  "nbformat": 4,
  "nbformat_minor": 0,
  "metadata": {
    "colab": {
      "name": "LAB EXAM PYTHON.ipynb",
      "provenance": [],
      "collapsed_sections": []
    },
    "kernelspec": {
      "name": "python3",
      "display_name": "Python 3"
    },
    "language_info": {
      "name": "python"
    }
  },
  "cells": [
    {
      "cell_type": "markdown",
      "source": [
        "Q1"
      ],
      "metadata": {
        "id": "otf2EDFu00_5"
      }
    },
    {
      "cell_type": "code",
      "execution_count": null,
      "metadata": {
        "colab": {
          "base_uri": "https://localhost:8080/"
        },
        "id": "Lj3Ew_W7eJ9k",
        "outputId": "de49a14f-5172-454c-c86d-0c3e4cc56e16"
      },
      "outputs": [
        {
          "output_type": "stream",
          "name": "stdout",
          "text": [
            "(0, 45, 40)\n"
          ]
        }
      ],
      "source": [
        "def convert (seconds):\n",
        "  seconds=seconds %(24 *3600)\n",
        "  hour=seconds //3600\n",
        "  seconds %=3600\n",
        "  minutes =seconds//60\n",
        "  seconds%=60\n",
        "  return hour ,minutes,seconds\n",
        "n=(2740)\n",
        "print(convert(n)) "
      ]
    },
    {
      "cell_type": "markdown",
      "source": [
        "Q2"
      ],
      "metadata": {
        "id": "oe_VPdfp5OyX"
      }
    },
    {
      "cell_type": "code",
      "source": [
        "def fun(n1,n2,n3,n4=0):\n",
        "  if n4==0:\n",
        "    sum=n1+n2+n3\n",
        "    avg=sum/3\n",
        "    return avg\n",
        "  else:\n",
        "    sum=n1+n2+n4+n2\n",
        "    avg=sum/4\n",
        "    return avg\n",
        "fun(5,10,15)"
      ],
      "metadata": {
        "colab": {
          "base_uri": "https://localhost:8080/"
        },
        "id": "Fe6m--cm5P-P",
        "outputId": "5c2b15f7-2a19-4bbc-cd68-adfe8fb85e6b"
      },
      "execution_count": null,
      "outputs": [
        {
          "output_type": "execute_result",
          "data": {
            "text/plain": [
              "10.0"
            ]
          },
          "metadata": {},
          "execution_count": 40
        }
      ]
    },
    {
      "cell_type": "markdown",
      "source": [
        "Q3"
      ],
      "metadata": {
        "id": "T_uptcm1v1v-"
      }
    },
    {
      "cell_type": "code",
      "source": [
        "k=1\n",
        "for i in range(0,6):\n",
        "  for j in range(1,i+1):\n",
        "    print(\"0\"if k%2==0 else \"1\",end=\" \")\n",
        "    k+=1\n",
        "  print()"
      ],
      "metadata": {
        "colab": {
          "base_uri": "https://localhost:8080/"
        },
        "id": "dWjw91WKv_XP",
        "outputId": "4ca04f50-b84f-4f2f-e83e-c0e78a4e9f4f"
      },
      "execution_count": null,
      "outputs": [
        {
          "output_type": "stream",
          "name": "stdout",
          "text": [
            "\n",
            "1 \n",
            "0 1 \n",
            "0 1 0 \n",
            "1 0 1 0 \n",
            "1 0 1 0 1 \n"
          ]
        }
      ]
    },
    {
      "cell_type": "markdown",
      "source": [
        "Q5"
      ],
      "metadata": {
        "id": "VwJNyH0gzDpt"
      }
    },
    {
      "cell_type": "code",
      "source": [
        "class Maths:\n",
        "  def __init__(self,dataA,dataB):\n",
        "    self.dataA=dataA\n",
        "    self.dataB=dataB\n",
        "   \n",
        "  def add(self):\n",
        "    print(self.dataA+self.dataB)\n",
        "  def div(self):\n",
        "    print(self.dataA//self.dataB)\n",
        "  def sub(self):\n",
        "    print(self.dataA-self.dataB)\n",
        "  def mul(self):\n",
        "    print(self.dataA*self.dataB)\n",
        "m=Maths(10,5)\n",
        "m.add()\n",
        "m.div()\n",
        "m.sub()\n",
        "m.mul()"
      ],
      "metadata": {
        "colab": {
          "base_uri": "https://localhost:8080/"
        },
        "id": "n93uJKcizJgl",
        "outputId": "6a946d43-1c07-467b-f3bb-e72b17669122"
      },
      "execution_count": null,
      "outputs": [
        {
          "output_type": "stream",
          "name": "stdout",
          "text": [
            "15\n"
          ]
        }
      ]
    },
    {
      "cell_type": "markdown",
      "source": [
        "Q7.Convert Paise in Rupees &\n",
        "Paises\n",
        "Ex: 350 is 3 Rupees 50 Paise\n",
        "3.50 print Rupees: 3 Paise: 50"
      ],
      "metadata": {
        "id": "6VhFbk6loNuQ"
      }
    },
    {
      "cell_type": "code",
      "source": [
        "\n",
        "paise= int(input(\"enter the paise\"))\n",
        "rs=paise/100\n",
        "print(rs,\"rupess\",paise,\"\")"
      ],
      "metadata": {
        "colab": {
          "base_uri": "https://localhost:8080/"
        },
        "id": "CBi0uKVWpIXw",
        "outputId": "f1cfec32-ca1d-4bea-c5f9-71a69610a941"
      },
      "execution_count": null,
      "outputs": [
        {
          "output_type": "stream",
          "name": "stdout",
          "text": [
            "enter the paise350\n",
            "3.5 rupess 350 \n"
          ]
        }
      ]
    },
    {
      "cell_type": "markdown",
      "source": [
        "Q8."
      ],
      "metadata": {
        "id": "CyyPJ7vm1Hsx"
      }
    },
    {
      "cell_type": "code",
      "source": [
        "for i in range(0,6):\n",
        "  for j in range(i):\n",
        "    print(i+1,end=\"\")\n",
        "  print()"
      ],
      "metadata": {
        "colab": {
          "base_uri": "https://localhost:8080/"
        },
        "id": "kyEUaY5qoRkF",
        "outputId": "ab6f83e4-0de8-4f9e-ed81-20ba865e9dbc"
      },
      "execution_count": null,
      "outputs": [
        {
          "output_type": "stream",
          "name": "stdout",
          "text": [
            "\n",
            "2\n",
            "33\n",
            "444\n",
            "5555\n",
            "66666\n"
          ]
        }
      ]
    },
    {
      "cell_type": "markdown",
      "source": [
        "Q9"
      ],
      "metadata": {
        "id": "IIPr3u1vxoP2"
      }
    },
    {
      "cell_type": "code",
      "source": [
        "string=input(\"enter the string\")\n",
        "strings=string[1::2]\n",
        "print(strings)"
      ],
      "metadata": {
        "colab": {
          "base_uri": "https://localhost:8080/"
        },
        "id": "RsLyP65fx0_r",
        "outputId": "a3268935-8a4b-415b-cb78-16b7f3ee65e4"
      },
      "execution_count": null,
      "outputs": [
        {
          "output_type": "stream",
          "name": "stdout",
          "text": [
            "enter the stringthis is test\n",
            "hsi et\n"
          ]
        }
      ]
    },
    {
      "cell_type": "markdown",
      "source": [
        "Q.10) Create menu driven code for\n",
        "1) Accept 2 numbers\n",
        "2) Add\n",
        "3) Sub\n",
        "4) Mul\n",
        "5) Div"
      ],
      "metadata": {
        "id": "MGr-nmTSsfNH"
      }
    },
    {
      "cell_type": "code",
      "source": [
        "def add(num1,num2):\n",
        "  print(num1+num2)\n",
        "def sub(num1,num2):\n",
        "  print(num1-num2)\n",
        "def mul(num1,num2):\n",
        "  print(num1*num2)\n",
        "def div(num1,num2):\n",
        "  print(num1//num2)\n",
        "num1=int(input(\"enter the number\"))\n",
        "num2=int(input(\"enter the number\"))\n",
        "print(\"enter the operator (+,-,*,//) \")\n",
        "ch= input()\n",
        "if ch==\"+\":\n",
        "  print(str(add(num1,num2)))\n",
        "elif ch==\"-\":\n",
        "  print(str(sub(num1,num2)))\n",
        "elif ch==\"*\":\n",
        "  print(str(mul(num1,num2)))\n",
        "elif ch==\"//\":\n",
        "  print(str(div(num1,num2)))\n",
        "else:\n",
        "  print(\"not available\")"
      ],
      "metadata": {
        "colab": {
          "base_uri": "https://localhost:8080/"
        },
        "id": "c7XghSdksgW-",
        "outputId": "5c0b56a9-34f8-4449-d154-68e588c2631f"
      },
      "execution_count": null,
      "outputs": [
        {
          "output_type": "stream",
          "name": "stdout",
          "text": [
            "enter the number10\n",
            "enter the number10\n",
            "enter the operator (+,-,*,//) \n",
            "//\n",
            "1\n",
            "None\n"
          ]
        }
      ]
    }
  ]
}